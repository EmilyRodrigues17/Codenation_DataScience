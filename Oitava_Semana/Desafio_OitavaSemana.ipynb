{
 "cells": [
  {
   "cell_type": "code",
   "execution_count": 1,
   "metadata": {},
   "outputs": [],
   "source": [
    "import pandas as pd\n",
    "import numpy as np\n",
    "import matplotlib.pyplot as plt\n",
    "import seaborn as sns\n",
    "\n",
    "\n",
    "from sklearn.linear_model import LinearRegression\n",
    "from sklearn.preprocessing import StandardScaler\n",
    "ss = StandardScaler()"
   ]
  },
  {
   "cell_type": "code",
   "execution_count": 2,
   "metadata": {},
   "outputs": [],
   "source": [
    "pd.set_option('display.max_columns', 500)"
   ]
  },
  {
   "cell_type": "code",
   "execution_count": 3,
   "metadata": {},
   "outputs": [],
   "source": [
    "pd.set_option('display.max_rows', 200000)"
   ]
  },
  {
   "cell_type": "markdown",
   "metadata": {},
   "source": [
    "## Lendo os dados de treino e teste"
   ]
  },
  {
   "cell_type": "code",
   "execution_count": 4,
   "metadata": {},
   "outputs": [],
   "source": [
    "df_train = pd.read_csv('train.csv', sep = ',')"
   ]
  },
  {
   "cell_type": "code",
   "execution_count": 5,
   "metadata": {},
   "outputs": [],
   "source": [
    "df_test = pd.read_csv('test.csv', sep = ',')"
   ]
  },
  {
   "cell_type": "markdown",
   "metadata": {},
   "source": [
    "## Fazendo a verificação dos dados de treino"
   ]
  },
  {
   "cell_type": "code",
   "execution_count": 6,
   "metadata": {},
   "outputs": [],
   "source": [
    "train_columns = df_test.columns.to_list() + ['NU_NOTA_MT']"
   ]
  },
  {
   "cell_type": "code",
   "execution_count": 7,
   "metadata": {},
   "outputs": [],
   "source": [
    "df_train = df_train[train_columns]"
   ]
  },
  {
   "cell_type": "code",
   "execution_count": 8,
   "metadata": {},
   "outputs": [
    {
     "data": {
      "text/html": [
       "<div>\n",
       "<style scoped>\n",
       "    .dataframe tbody tr th:only-of-type {\n",
       "        vertical-align: middle;\n",
       "    }\n",
       "\n",
       "    .dataframe tbody tr th {\n",
       "        vertical-align: top;\n",
       "    }\n",
       "\n",
       "    .dataframe thead th {\n",
       "        text-align: right;\n",
       "    }\n",
       "</style>\n",
       "<table border=\"1\" class=\"dataframe\">\n",
       "  <thead>\n",
       "    <tr style=\"text-align: right;\">\n",
       "      <th></th>\n",
       "      <th>NU_INSCRICAO</th>\n",
       "      <th>CO_UF_RESIDENCIA</th>\n",
       "      <th>SG_UF_RESIDENCIA</th>\n",
       "      <th>NU_IDADE</th>\n",
       "      <th>TP_SEXO</th>\n",
       "      <th>TP_COR_RACA</th>\n",
       "      <th>TP_NACIONALIDADE</th>\n",
       "      <th>TP_ST_CONCLUSAO</th>\n",
       "      <th>TP_ANO_CONCLUIU</th>\n",
       "      <th>TP_ESCOLA</th>\n",
       "      <th>TP_ENSINO</th>\n",
       "      <th>IN_TREINEIRO</th>\n",
       "      <th>TP_DEPENDENCIA_ADM_ESC</th>\n",
       "      <th>IN_BAIXA_VISAO</th>\n",
       "      <th>IN_CEGUEIRA</th>\n",
       "      <th>IN_SURDEZ</th>\n",
       "      <th>IN_DISLEXIA</th>\n",
       "      <th>IN_DISCALCULIA</th>\n",
       "      <th>IN_SABATISTA</th>\n",
       "      <th>IN_GESTANTE</th>\n",
       "      <th>IN_IDOSO</th>\n",
       "      <th>TP_PRESENCA_CN</th>\n",
       "      <th>TP_PRESENCA_CH</th>\n",
       "      <th>TP_PRESENCA_LC</th>\n",
       "      <th>CO_PROVA_CN</th>\n",
       "      <th>CO_PROVA_CH</th>\n",
       "      <th>CO_PROVA_LC</th>\n",
       "      <th>CO_PROVA_MT</th>\n",
       "      <th>NU_NOTA_CN</th>\n",
       "      <th>NU_NOTA_CH</th>\n",
       "      <th>NU_NOTA_LC</th>\n",
       "      <th>TP_LINGUA</th>\n",
       "      <th>TP_STATUS_REDACAO</th>\n",
       "      <th>NU_NOTA_COMP1</th>\n",
       "      <th>NU_NOTA_COMP2</th>\n",
       "      <th>NU_NOTA_COMP3</th>\n",
       "      <th>NU_NOTA_COMP4</th>\n",
       "      <th>NU_NOTA_COMP5</th>\n",
       "      <th>NU_NOTA_REDACAO</th>\n",
       "      <th>Q001</th>\n",
       "      <th>Q002</th>\n",
       "      <th>Q006</th>\n",
       "      <th>Q024</th>\n",
       "      <th>Q025</th>\n",
       "      <th>Q026</th>\n",
       "      <th>Q027</th>\n",
       "      <th>Q047</th>\n",
       "      <th>NU_NOTA_MT</th>\n",
       "    </tr>\n",
       "  </thead>\n",
       "  <tbody>\n",
       "    <tr>\n",
       "      <th>0</th>\n",
       "      <td>ed50e8aaa58e7a806c337585efee9ca41f1eb1ad</td>\n",
       "      <td>43</td>\n",
       "      <td>RS</td>\n",
       "      <td>24</td>\n",
       "      <td>M</td>\n",
       "      <td>1</td>\n",
       "      <td>1</td>\n",
       "      <td>1</td>\n",
       "      <td>4</td>\n",
       "      <td>1</td>\n",
       "      <td>NaN</td>\n",
       "      <td>0</td>\n",
       "      <td>NaN</td>\n",
       "      <td>0</td>\n",
       "      <td>0</td>\n",
       "      <td>0</td>\n",
       "      <td>0</td>\n",
       "      <td>0</td>\n",
       "      <td>0</td>\n",
       "      <td>0</td>\n",
       "      <td>0</td>\n",
       "      <td>1</td>\n",
       "      <td>1</td>\n",
       "      <td>1</td>\n",
       "      <td>16f84b7b3d2aeaff7d2f01297e6b3d0e25c77bb2</td>\n",
       "      <td>9cd70f1b922e02bd33453b3f607f5a644fb9b1b8</td>\n",
       "      <td>01af53cd161a420fff1767129c10de560cc264dd</td>\n",
       "      <td>97caab1e1533dba217deb7ef41490f52e459ab01</td>\n",
       "      <td>436.3</td>\n",
       "      <td>495.4</td>\n",
       "      <td>581.2</td>\n",
       "      <td>1</td>\n",
       "      <td>1.0</td>\n",
       "      <td>120.0</td>\n",
       "      <td>120.0</td>\n",
       "      <td>120.0</td>\n",
       "      <td>80.0</td>\n",
       "      <td>80.0</td>\n",
       "      <td>520.0</td>\n",
       "      <td>D</td>\n",
       "      <td>D</td>\n",
       "      <td>C</td>\n",
       "      <td>A</td>\n",
       "      <td>A</td>\n",
       "      <td>C</td>\n",
       "      <td>H</td>\n",
       "      <td>A</td>\n",
       "      <td>399.4</td>\n",
       "    </tr>\n",
       "    <tr>\n",
       "      <th>1</th>\n",
       "      <td>2c3acac4b33ec2b195d77e7c04a2d75727fad723</td>\n",
       "      <td>23</td>\n",
       "      <td>CE</td>\n",
       "      <td>17</td>\n",
       "      <td>F</td>\n",
       "      <td>3</td>\n",
       "      <td>1</td>\n",
       "      <td>2</td>\n",
       "      <td>0</td>\n",
       "      <td>2</td>\n",
       "      <td>1.0</td>\n",
       "      <td>0</td>\n",
       "      <td>2.0</td>\n",
       "      <td>0</td>\n",
       "      <td>0</td>\n",
       "      <td>0</td>\n",
       "      <td>0</td>\n",
       "      <td>0</td>\n",
       "      <td>0</td>\n",
       "      <td>0</td>\n",
       "      <td>0</td>\n",
       "      <td>1</td>\n",
       "      <td>1</td>\n",
       "      <td>1</td>\n",
       "      <td>b9b06ce8c319a3df2158ea3d0aef0f7d3eecaed7</td>\n",
       "      <td>909237ab0d84688e10c0470e2997348aff585273</td>\n",
       "      <td>01af53cd161a420fff1767129c10de560cc264dd</td>\n",
       "      <td>97caab1e1533dba217deb7ef41490f52e459ab01</td>\n",
       "      <td>474.5</td>\n",
       "      <td>544.1</td>\n",
       "      <td>599.0</td>\n",
       "      <td>1</td>\n",
       "      <td>1.0</td>\n",
       "      <td>140.0</td>\n",
       "      <td>120.0</td>\n",
       "      <td>120.0</td>\n",
       "      <td>120.0</td>\n",
       "      <td>80.0</td>\n",
       "      <td>580.0</td>\n",
       "      <td>A</td>\n",
       "      <td>A</td>\n",
       "      <td>B</td>\n",
       "      <td>A</td>\n",
       "      <td>A</td>\n",
       "      <td>A</td>\n",
       "      <td>NaN</td>\n",
       "      <td>A</td>\n",
       "      <td>459.8</td>\n",
       "    </tr>\n",
       "    <tr>\n",
       "      <th>2</th>\n",
       "      <td>f4545f8ccb9ff5c8aad7d32951b3f251a26e6568</td>\n",
       "      <td>23</td>\n",
       "      <td>CE</td>\n",
       "      <td>21</td>\n",
       "      <td>F</td>\n",
       "      <td>3</td>\n",
       "      <td>1</td>\n",
       "      <td>3</td>\n",
       "      <td>0</td>\n",
       "      <td>1</td>\n",
       "      <td>NaN</td>\n",
       "      <td>0</td>\n",
       "      <td>NaN</td>\n",
       "      <td>0</td>\n",
       "      <td>0</td>\n",
       "      <td>0</td>\n",
       "      <td>0</td>\n",
       "      <td>0</td>\n",
       "      <td>0</td>\n",
       "      <td>0</td>\n",
       "      <td>0</td>\n",
       "      <td>0</td>\n",
       "      <td>0</td>\n",
       "      <td>0</td>\n",
       "      <td>2d22ac1d42e6187f09ee6c578df187a760123ccf</td>\n",
       "      <td>2d22ac1d42e6187f09ee6c578df187a760123ccf</td>\n",
       "      <td>2d22ac1d42e6187f09ee6c578df187a760123ccf</td>\n",
       "      <td>2d22ac1d42e6187f09ee6c578df187a760123ccf</td>\n",
       "      <td>NaN</td>\n",
       "      <td>NaN</td>\n",
       "      <td>NaN</td>\n",
       "      <td>1</td>\n",
       "      <td>NaN</td>\n",
       "      <td>NaN</td>\n",
       "      <td>NaN</td>\n",
       "      <td>NaN</td>\n",
       "      <td>NaN</td>\n",
       "      <td>NaN</td>\n",
       "      <td>NaN</td>\n",
       "      <td>D</td>\n",
       "      <td>D</td>\n",
       "      <td>C</td>\n",
       "      <td>A</td>\n",
       "      <td>A</td>\n",
       "      <td>A</td>\n",
       "      <td>NaN</td>\n",
       "      <td>A</td>\n",
       "      <td>NaN</td>\n",
       "    </tr>\n",
       "    <tr>\n",
       "      <th>3</th>\n",
       "      <td>3d6ec248fef899c414e77f82d5c6d2bffbeaf7fe</td>\n",
       "      <td>33</td>\n",
       "      <td>RJ</td>\n",
       "      <td>25</td>\n",
       "      <td>F</td>\n",
       "      <td>0</td>\n",
       "      <td>1</td>\n",
       "      <td>1</td>\n",
       "      <td>9</td>\n",
       "      <td>1</td>\n",
       "      <td>NaN</td>\n",
       "      <td>0</td>\n",
       "      <td>NaN</td>\n",
       "      <td>0</td>\n",
       "      <td>0</td>\n",
       "      <td>0</td>\n",
       "      <td>0</td>\n",
       "      <td>0</td>\n",
       "      <td>0</td>\n",
       "      <td>0</td>\n",
       "      <td>0</td>\n",
       "      <td>0</td>\n",
       "      <td>0</td>\n",
       "      <td>0</td>\n",
       "      <td>2d22ac1d42e6187f09ee6c578df187a760123ccf</td>\n",
       "      <td>2d22ac1d42e6187f09ee6c578df187a760123ccf</td>\n",
       "      <td>2d22ac1d42e6187f09ee6c578df187a760123ccf</td>\n",
       "      <td>2d22ac1d42e6187f09ee6c578df187a760123ccf</td>\n",
       "      <td>NaN</td>\n",
       "      <td>NaN</td>\n",
       "      <td>NaN</td>\n",
       "      <td>0</td>\n",
       "      <td>NaN</td>\n",
       "      <td>NaN</td>\n",
       "      <td>NaN</td>\n",
       "      <td>NaN</td>\n",
       "      <td>NaN</td>\n",
       "      <td>NaN</td>\n",
       "      <td>NaN</td>\n",
       "      <td>H</td>\n",
       "      <td>E</td>\n",
       "      <td>E</td>\n",
       "      <td>C</td>\n",
       "      <td>B</td>\n",
       "      <td>C</td>\n",
       "      <td>F</td>\n",
       "      <td>D</td>\n",
       "      <td>NaN</td>\n",
       "    </tr>\n",
       "    <tr>\n",
       "      <th>4</th>\n",
       "      <td>bf896ac8d3ecadd6dba1dfbf50110afcbf5d3268</td>\n",
       "      <td>13</td>\n",
       "      <td>AM</td>\n",
       "      <td>28</td>\n",
       "      <td>M</td>\n",
       "      <td>2</td>\n",
       "      <td>1</td>\n",
       "      <td>1</td>\n",
       "      <td>4</td>\n",
       "      <td>1</td>\n",
       "      <td>NaN</td>\n",
       "      <td>0</td>\n",
       "      <td>NaN</td>\n",
       "      <td>0</td>\n",
       "      <td>0</td>\n",
       "      <td>0</td>\n",
       "      <td>0</td>\n",
       "      <td>0</td>\n",
       "      <td>0</td>\n",
       "      <td>0</td>\n",
       "      <td>0</td>\n",
       "      <td>0</td>\n",
       "      <td>0</td>\n",
       "      <td>0</td>\n",
       "      <td>2d22ac1d42e6187f09ee6c578df187a760123ccf</td>\n",
       "      <td>2d22ac1d42e6187f09ee6c578df187a760123ccf</td>\n",
       "      <td>2d22ac1d42e6187f09ee6c578df187a760123ccf</td>\n",
       "      <td>2d22ac1d42e6187f09ee6c578df187a760123ccf</td>\n",
       "      <td>NaN</td>\n",
       "      <td>NaN</td>\n",
       "      <td>NaN</td>\n",
       "      <td>1</td>\n",
       "      <td>NaN</td>\n",
       "      <td>NaN</td>\n",
       "      <td>NaN</td>\n",
       "      <td>NaN</td>\n",
       "      <td>NaN</td>\n",
       "      <td>NaN</td>\n",
       "      <td>NaN</td>\n",
       "      <td>E</td>\n",
       "      <td>D</td>\n",
       "      <td>C</td>\n",
       "      <td>A</td>\n",
       "      <td>A</td>\n",
       "      <td>B</td>\n",
       "      <td>F</td>\n",
       "      <td>A</td>\n",
       "      <td>NaN</td>\n",
       "    </tr>\n",
       "  </tbody>\n",
       "</table>\n",
       "</div>"
      ],
      "text/plain": [
       "                               NU_INSCRICAO  CO_UF_RESIDENCIA  \\\n",
       "0  ed50e8aaa58e7a806c337585efee9ca41f1eb1ad                43   \n",
       "1  2c3acac4b33ec2b195d77e7c04a2d75727fad723                23   \n",
       "2  f4545f8ccb9ff5c8aad7d32951b3f251a26e6568                23   \n",
       "3  3d6ec248fef899c414e77f82d5c6d2bffbeaf7fe                33   \n",
       "4  bf896ac8d3ecadd6dba1dfbf50110afcbf5d3268                13   \n",
       "\n",
       "  SG_UF_RESIDENCIA  NU_IDADE TP_SEXO  TP_COR_RACA  TP_NACIONALIDADE  \\\n",
       "0               RS        24       M            1                 1   \n",
       "1               CE        17       F            3                 1   \n",
       "2               CE        21       F            3                 1   \n",
       "3               RJ        25       F            0                 1   \n",
       "4               AM        28       M            2                 1   \n",
       "\n",
       "   TP_ST_CONCLUSAO  TP_ANO_CONCLUIU  TP_ESCOLA  TP_ENSINO  IN_TREINEIRO  \\\n",
       "0                1                4          1        NaN             0   \n",
       "1                2                0          2        1.0             0   \n",
       "2                3                0          1        NaN             0   \n",
       "3                1                9          1        NaN             0   \n",
       "4                1                4          1        NaN             0   \n",
       "\n",
       "   TP_DEPENDENCIA_ADM_ESC  IN_BAIXA_VISAO  IN_CEGUEIRA  IN_SURDEZ  \\\n",
       "0                     NaN               0            0          0   \n",
       "1                     2.0               0            0          0   \n",
       "2                     NaN               0            0          0   \n",
       "3                     NaN               0            0          0   \n",
       "4                     NaN               0            0          0   \n",
       "\n",
       "   IN_DISLEXIA  IN_DISCALCULIA  IN_SABATISTA  IN_GESTANTE  IN_IDOSO  \\\n",
       "0            0               0             0            0         0   \n",
       "1            0               0             0            0         0   \n",
       "2            0               0             0            0         0   \n",
       "3            0               0             0            0         0   \n",
       "4            0               0             0            0         0   \n",
       "\n",
       "   TP_PRESENCA_CN  TP_PRESENCA_CH  TP_PRESENCA_LC  \\\n",
       "0               1               1               1   \n",
       "1               1               1               1   \n",
       "2               0               0               0   \n",
       "3               0               0               0   \n",
       "4               0               0               0   \n",
       "\n",
       "                                CO_PROVA_CN  \\\n",
       "0  16f84b7b3d2aeaff7d2f01297e6b3d0e25c77bb2   \n",
       "1  b9b06ce8c319a3df2158ea3d0aef0f7d3eecaed7   \n",
       "2  2d22ac1d42e6187f09ee6c578df187a760123ccf   \n",
       "3  2d22ac1d42e6187f09ee6c578df187a760123ccf   \n",
       "4  2d22ac1d42e6187f09ee6c578df187a760123ccf   \n",
       "\n",
       "                                CO_PROVA_CH  \\\n",
       "0  9cd70f1b922e02bd33453b3f607f5a644fb9b1b8   \n",
       "1  909237ab0d84688e10c0470e2997348aff585273   \n",
       "2  2d22ac1d42e6187f09ee6c578df187a760123ccf   \n",
       "3  2d22ac1d42e6187f09ee6c578df187a760123ccf   \n",
       "4  2d22ac1d42e6187f09ee6c578df187a760123ccf   \n",
       "\n",
       "                                CO_PROVA_LC  \\\n",
       "0  01af53cd161a420fff1767129c10de560cc264dd   \n",
       "1  01af53cd161a420fff1767129c10de560cc264dd   \n",
       "2  2d22ac1d42e6187f09ee6c578df187a760123ccf   \n",
       "3  2d22ac1d42e6187f09ee6c578df187a760123ccf   \n",
       "4  2d22ac1d42e6187f09ee6c578df187a760123ccf   \n",
       "\n",
       "                                CO_PROVA_MT  NU_NOTA_CN  NU_NOTA_CH  \\\n",
       "0  97caab1e1533dba217deb7ef41490f52e459ab01       436.3       495.4   \n",
       "1  97caab1e1533dba217deb7ef41490f52e459ab01       474.5       544.1   \n",
       "2  2d22ac1d42e6187f09ee6c578df187a760123ccf         NaN         NaN   \n",
       "3  2d22ac1d42e6187f09ee6c578df187a760123ccf         NaN         NaN   \n",
       "4  2d22ac1d42e6187f09ee6c578df187a760123ccf         NaN         NaN   \n",
       "\n",
       "   NU_NOTA_LC  TP_LINGUA  TP_STATUS_REDACAO  NU_NOTA_COMP1  NU_NOTA_COMP2  \\\n",
       "0       581.2          1                1.0          120.0          120.0   \n",
       "1       599.0          1                1.0          140.0          120.0   \n",
       "2         NaN          1                NaN            NaN            NaN   \n",
       "3         NaN          0                NaN            NaN            NaN   \n",
       "4         NaN          1                NaN            NaN            NaN   \n",
       "\n",
       "   NU_NOTA_COMP3  NU_NOTA_COMP4  NU_NOTA_COMP5  NU_NOTA_REDACAO Q001 Q002  \\\n",
       "0          120.0           80.0           80.0            520.0    D    D   \n",
       "1          120.0          120.0           80.0            580.0    A    A   \n",
       "2            NaN            NaN            NaN              NaN    D    D   \n",
       "3            NaN            NaN            NaN              NaN    H    E   \n",
       "4            NaN            NaN            NaN              NaN    E    D   \n",
       "\n",
       "  Q006 Q024 Q025 Q026 Q027 Q047  NU_NOTA_MT  \n",
       "0    C    A    A    C    H    A       399.4  \n",
       "1    B    A    A    A  NaN    A       459.8  \n",
       "2    C    A    A    A  NaN    A         NaN  \n",
       "3    E    C    B    C    F    D         NaN  \n",
       "4    C    A    A    B    F    A         NaN  "
      ]
     },
     "execution_count": 8,
     "metadata": {},
     "output_type": "execute_result"
    }
   ],
   "source": [
    "df_train.head(5)"
   ]
  },
  {
   "cell_type": "markdown",
   "metadata": {},
   "source": [
    "## Verficando os dados nulos nas notas de matemática"
   ]
  },
  {
   "cell_type": "code",
   "execution_count": 9,
   "metadata": {},
   "outputs": [
    {
     "data": {
      "text/plain": [
       "3597"
      ]
     },
     "execution_count": 9,
     "metadata": {},
     "output_type": "execute_result"
    }
   ],
   "source": [
    "df_train['NU_NOTA_MT'].isna().sum()"
   ]
  },
  {
   "cell_type": "code",
   "execution_count": 10,
   "metadata": {},
   "outputs": [],
   "source": [
    "valores_nulos = df_train.loc[df_train['NU_NOTA_MT'].isna()]"
   ]
  },
  {
   "cell_type": "code",
   "execution_count": 11,
   "metadata": {},
   "outputs": [
    {
     "name": "stdout",
     "output_type": "stream",
     "text": [
      "<class 'pandas.core.frame.DataFrame'>\n",
      "Int64Index: 3597 entries, 2 to 13722\n",
      "Data columns (total 48 columns):\n",
      " #   Column                  Non-Null Count  Dtype  \n",
      "---  ------                  --------------  -----  \n",
      " 0   NU_INSCRICAO            3597 non-null   object \n",
      " 1   CO_UF_RESIDENCIA        3597 non-null   int64  \n",
      " 2   SG_UF_RESIDENCIA        3597 non-null   object \n",
      " 3   NU_IDADE                3597 non-null   int64  \n",
      " 4   TP_SEXO                 3597 non-null   object \n",
      " 5   TP_COR_RACA             3597 non-null   int64  \n",
      " 6   TP_NACIONALIDADE        3597 non-null   int64  \n",
      " 7   TP_ST_CONCLUSAO         3597 non-null   int64  \n",
      " 8   TP_ANO_CONCLUIU         3597 non-null   int64  \n",
      " 9   TP_ESCOLA               3597 non-null   int64  \n",
      " 10  TP_ENSINO               643 non-null    float64\n",
      " 11  IN_TREINEIRO            3597 non-null   int64  \n",
      " 12  TP_DEPENDENCIA_ADM_ESC  643 non-null    float64\n",
      " 13  IN_BAIXA_VISAO          3597 non-null   int64  \n",
      " 14  IN_CEGUEIRA             3597 non-null   int64  \n",
      " 15  IN_SURDEZ               3597 non-null   int64  \n",
      " 16  IN_DISLEXIA             3597 non-null   int64  \n",
      " 17  IN_DISCALCULIA          3597 non-null   int64  \n",
      " 18  IN_SABATISTA            3597 non-null   int64  \n",
      " 19  IN_GESTANTE             3597 non-null   int64  \n",
      " 20  IN_IDOSO                3597 non-null   int64  \n",
      " 21  TP_PRESENCA_CN          3597 non-null   int64  \n",
      " 22  TP_PRESENCA_CH          3597 non-null   int64  \n",
      " 23  TP_PRESENCA_LC          3597 non-null   int64  \n",
      " 24  CO_PROVA_CN             3597 non-null   object \n",
      " 25  CO_PROVA_CH             3597 non-null   object \n",
      " 26  CO_PROVA_LC             3597 non-null   object \n",
      " 27  CO_PROVA_MT             3597 non-null   object \n",
      " 28  NU_NOTA_CN              244 non-null    float64\n",
      " 29  NU_NOTA_CH              244 non-null    float64\n",
      " 30  NU_NOTA_LC              0 non-null      float64\n",
      " 31  TP_LINGUA               3597 non-null   int64  \n",
      " 32  TP_STATUS_REDACAO       0 non-null      float64\n",
      " 33  NU_NOTA_COMP1           0 non-null      float64\n",
      " 34  NU_NOTA_COMP2           0 non-null      float64\n",
      " 35  NU_NOTA_COMP3           0 non-null      float64\n",
      " 36  NU_NOTA_COMP4           0 non-null      float64\n",
      " 37  NU_NOTA_COMP5           0 non-null      float64\n",
      " 38  NU_NOTA_REDACAO         0 non-null      float64\n",
      " 39  Q001                    3597 non-null   object \n",
      " 40  Q002                    3597 non-null   object \n",
      " 41  Q006                    3597 non-null   object \n",
      " 42  Q024                    3597 non-null   object \n",
      " 43  Q025                    3597 non-null   object \n",
      " 44  Q026                    3597 non-null   object \n",
      " 45  Q027                    2350 non-null   object \n",
      " 46  Q047                    3597 non-null   object \n",
      " 47  NU_NOTA_MT              0 non-null      float64\n",
      "dtypes: float64(13), int64(20), object(15)\n",
      "memory usage: 1.3+ MB\n"
     ]
    }
   ],
   "source": [
    "valores_nulos.info()"
   ]
  },
  {
   "cell_type": "markdown",
   "metadata": {},
   "source": [
    "### Verificar se TP_PRESENCA_LC indica alguma relação com as notas nulas em matemática.\n",
    "### 0 - Faltou\n",
    "### 1 - Presente\n",
    "### 2 - Eliminado"
   ]
  },
  {
   "cell_type": "code",
   "execution_count": 12,
   "metadata": {},
   "outputs": [
    {
     "data": {
      "text/plain": [
       "array([0, 2], dtype=int64)"
      ]
     },
     "execution_count": 12,
     "metadata": {},
     "output_type": "execute_result"
    }
   ],
   "source": [
    "valores_nulos['TP_PRESENCA_LC'].unique() # significa que o aluno faltou ou foi eliminado"
   ]
  },
  {
   "cell_type": "markdown",
   "metadata": {},
   "source": [
    "## Verificando as correlações"
   ]
  },
  {
   "cell_type": "code",
   "execution_count": 13,
   "metadata": {},
   "outputs": [],
   "source": [
    "corr_train = df_train.corr()"
   ]
  },
  {
   "cell_type": "code",
   "execution_count": 14,
   "metadata": {},
   "outputs": [],
   "source": [
    "corr_mat = corr_train.loc['NU_NOTA_MT']"
   ]
  },
  {
   "cell_type": "markdown",
   "metadata": {},
   "source": [
    "- tirando as melhores correlações com a nota de matematica"
   ]
  },
  {
   "cell_type": "code",
   "execution_count": 15,
   "metadata": {},
   "outputs": [],
   "source": [
    "up_corr = corr_mat[corr_mat >= 0.25]"
   ]
  },
  {
   "cell_type": "code",
   "execution_count": 16,
   "metadata": {},
   "outputs": [],
   "source": [
    "df_aux = up_corr.to_frame().reset_index()\n",
    "df_aux.rename(columns = {'index' : 'colunas'}, inplace = True)\n",
    "colunas_aux = df_aux.colunas.to_list() "
   ]
  },
  {
   "cell_type": "code",
   "execution_count": 17,
   "metadata": {},
   "outputs": [
    {
     "data": {
      "text/plain": [
       "['TP_DEPENDENCIA_ADM_ESC',\n",
       " 'NU_NOTA_CN',\n",
       " 'NU_NOTA_CH',\n",
       " 'NU_NOTA_LC',\n",
       " 'NU_NOTA_COMP1',\n",
       " 'NU_NOTA_COMP2',\n",
       " 'NU_NOTA_COMP3',\n",
       " 'NU_NOTA_COMP4',\n",
       " 'NU_NOTA_COMP5',\n",
       " 'NU_NOTA_REDACAO',\n",
       " 'NU_NOTA_MT']"
      ]
     },
     "execution_count": 17,
     "metadata": {},
     "output_type": "execute_result"
    }
   ],
   "source": [
    "colunas_aux"
   ]
  },
  {
   "cell_type": "markdown",
   "metadata": {},
   "source": [
    "- fazendo a correlação com o df_train"
   ]
  },
  {
   "cell_type": "code",
   "execution_count": 18,
   "metadata": {},
   "outputs": [
    {
     "data": {
      "text/html": [
       "<div>\n",
       "<style scoped>\n",
       "    .dataframe tbody tr th:only-of-type {\n",
       "        vertical-align: middle;\n",
       "    }\n",
       "\n",
       "    .dataframe tbody tr th {\n",
       "        vertical-align: top;\n",
       "    }\n",
       "\n",
       "    .dataframe thead th {\n",
       "        text-align: right;\n",
       "    }\n",
       "</style>\n",
       "<table border=\"1\" class=\"dataframe\">\n",
       "  <thead>\n",
       "    <tr style=\"text-align: right;\">\n",
       "      <th></th>\n",
       "      <th>TP_DEPENDENCIA_ADM_ESC</th>\n",
       "      <th>NU_NOTA_CN</th>\n",
       "      <th>NU_NOTA_CH</th>\n",
       "      <th>NU_NOTA_LC</th>\n",
       "      <th>NU_NOTA_COMP1</th>\n",
       "      <th>NU_NOTA_COMP2</th>\n",
       "      <th>NU_NOTA_COMP3</th>\n",
       "      <th>NU_NOTA_COMP4</th>\n",
       "      <th>NU_NOTA_COMP5</th>\n",
       "      <th>NU_NOTA_REDACAO</th>\n",
       "      <th>NU_NOTA_MT</th>\n",
       "    </tr>\n",
       "  </thead>\n",
       "  <tbody>\n",
       "    <tr>\n",
       "      <th>TP_DEPENDENCIA_ADM_ESC</th>\n",
       "      <td>1.000000</td>\n",
       "      <td>0.393774</td>\n",
       "      <td>0.338486</td>\n",
       "      <td>0.299387</td>\n",
       "      <td>0.233368</td>\n",
       "      <td>0.282586</td>\n",
       "      <td>0.282997</td>\n",
       "      <td>0.264291</td>\n",
       "      <td>0.252388</td>\n",
       "      <td>0.297040</td>\n",
       "      <td>0.373233</td>\n",
       "    </tr>\n",
       "    <tr>\n",
       "      <th>NU_NOTA_CN</th>\n",
       "      <td>0.393774</td>\n",
       "      <td>1.000000</td>\n",
       "      <td>0.609543</td>\n",
       "      <td>0.545667</td>\n",
       "      <td>0.357672</td>\n",
       "      <td>0.412894</td>\n",
       "      <td>0.429447</td>\n",
       "      <td>0.407747</td>\n",
       "      <td>0.416349</td>\n",
       "      <td>0.459938</td>\n",
       "      <td>0.584941</td>\n",
       "    </tr>\n",
       "    <tr>\n",
       "      <th>NU_NOTA_CH</th>\n",
       "      <td>0.338486</td>\n",
       "      <td>0.609543</td>\n",
       "      <td>1.000000</td>\n",
       "      <td>0.692988</td>\n",
       "      <td>0.443809</td>\n",
       "      <td>0.488050</td>\n",
       "      <td>0.510452</td>\n",
       "      <td>0.488797</td>\n",
       "      <td>0.494798</td>\n",
       "      <td>0.550582</td>\n",
       "      <td>0.529594</td>\n",
       "    </tr>\n",
       "    <tr>\n",
       "      <th>NU_NOTA_LC</th>\n",
       "      <td>0.299387</td>\n",
       "      <td>0.545667</td>\n",
       "      <td>0.692988</td>\n",
       "      <td>1.000000</td>\n",
       "      <td>0.430603</td>\n",
       "      <td>0.453262</td>\n",
       "      <td>0.475390</td>\n",
       "      <td>0.467356</td>\n",
       "      <td>0.441696</td>\n",
       "      <td>0.512908</td>\n",
       "      <td>0.494695</td>\n",
       "    </tr>\n",
       "    <tr>\n",
       "      <th>NU_NOTA_COMP1</th>\n",
       "      <td>0.233368</td>\n",
       "      <td>0.357672</td>\n",
       "      <td>0.443809</td>\n",
       "      <td>0.430603</td>\n",
       "      <td>1.000000</td>\n",
       "      <td>0.756664</td>\n",
       "      <td>0.759452</td>\n",
       "      <td>0.824538</td>\n",
       "      <td>0.558587</td>\n",
       "      <td>0.862744</td>\n",
       "      <td>0.299402</td>\n",
       "    </tr>\n",
       "    <tr>\n",
       "      <th>NU_NOTA_COMP2</th>\n",
       "      <td>0.282586</td>\n",
       "      <td>0.412894</td>\n",
       "      <td>0.488050</td>\n",
       "      <td>0.453262</td>\n",
       "      <td>0.756664</td>\n",
       "      <td>1.000000</td>\n",
       "      <td>0.875447</td>\n",
       "      <td>0.808006</td>\n",
       "      <td>0.655915</td>\n",
       "      <td>0.918278</td>\n",
       "      <td>0.335638</td>\n",
       "    </tr>\n",
       "    <tr>\n",
       "      <th>NU_NOTA_COMP3</th>\n",
       "      <td>0.282997</td>\n",
       "      <td>0.429447</td>\n",
       "      <td>0.510452</td>\n",
       "      <td>0.475390</td>\n",
       "      <td>0.759452</td>\n",
       "      <td>0.875447</td>\n",
       "      <td>1.000000</td>\n",
       "      <td>0.827151</td>\n",
       "      <td>0.664350</td>\n",
       "      <td>0.925813</td>\n",
       "      <td>0.350307</td>\n",
       "    </tr>\n",
       "    <tr>\n",
       "      <th>NU_NOTA_COMP4</th>\n",
       "      <td>0.264291</td>\n",
       "      <td>0.407747</td>\n",
       "      <td>0.488797</td>\n",
       "      <td>0.467356</td>\n",
       "      <td>0.824538</td>\n",
       "      <td>0.808006</td>\n",
       "      <td>0.827151</td>\n",
       "      <td>1.000000</td>\n",
       "      <td>0.635018</td>\n",
       "      <td>0.914505</td>\n",
       "      <td>0.342282</td>\n",
       "    </tr>\n",
       "    <tr>\n",
       "      <th>NU_NOTA_COMP5</th>\n",
       "      <td>0.252388</td>\n",
       "      <td>0.416349</td>\n",
       "      <td>0.494798</td>\n",
       "      <td>0.441696</td>\n",
       "      <td>0.558587</td>\n",
       "      <td>0.655915</td>\n",
       "      <td>0.664350</td>\n",
       "      <td>0.635018</td>\n",
       "      <td>1.000000</td>\n",
       "      <td>0.816248</td>\n",
       "      <td>0.343337</td>\n",
       "    </tr>\n",
       "    <tr>\n",
       "      <th>NU_NOTA_REDACAO</th>\n",
       "      <td>0.297040</td>\n",
       "      <td>0.459938</td>\n",
       "      <td>0.550582</td>\n",
       "      <td>0.512908</td>\n",
       "      <td>0.862744</td>\n",
       "      <td>0.918278</td>\n",
       "      <td>0.925813</td>\n",
       "      <td>0.914505</td>\n",
       "      <td>0.816248</td>\n",
       "      <td>1.000000</td>\n",
       "      <td>0.379376</td>\n",
       "    </tr>\n",
       "    <tr>\n",
       "      <th>NU_NOTA_MT</th>\n",
       "      <td>0.373233</td>\n",
       "      <td>0.584941</td>\n",
       "      <td>0.529594</td>\n",
       "      <td>0.494695</td>\n",
       "      <td>0.299402</td>\n",
       "      <td>0.335638</td>\n",
       "      <td>0.350307</td>\n",
       "      <td>0.342282</td>\n",
       "      <td>0.343337</td>\n",
       "      <td>0.379376</td>\n",
       "      <td>1.000000</td>\n",
       "    </tr>\n",
       "  </tbody>\n",
       "</table>\n",
       "</div>"
      ],
      "text/plain": [
       "                        TP_DEPENDENCIA_ADM_ESC  NU_NOTA_CN  NU_NOTA_CH  \\\n",
       "TP_DEPENDENCIA_ADM_ESC                1.000000    0.393774    0.338486   \n",
       "NU_NOTA_CN                            0.393774    1.000000    0.609543   \n",
       "NU_NOTA_CH                            0.338486    0.609543    1.000000   \n",
       "NU_NOTA_LC                            0.299387    0.545667    0.692988   \n",
       "NU_NOTA_COMP1                         0.233368    0.357672    0.443809   \n",
       "NU_NOTA_COMP2                         0.282586    0.412894    0.488050   \n",
       "NU_NOTA_COMP3                         0.282997    0.429447    0.510452   \n",
       "NU_NOTA_COMP4                         0.264291    0.407747    0.488797   \n",
       "NU_NOTA_COMP5                         0.252388    0.416349    0.494798   \n",
       "NU_NOTA_REDACAO                       0.297040    0.459938    0.550582   \n",
       "NU_NOTA_MT                            0.373233    0.584941    0.529594   \n",
       "\n",
       "                        NU_NOTA_LC  NU_NOTA_COMP1  NU_NOTA_COMP2  \\\n",
       "TP_DEPENDENCIA_ADM_ESC    0.299387       0.233368       0.282586   \n",
       "NU_NOTA_CN                0.545667       0.357672       0.412894   \n",
       "NU_NOTA_CH                0.692988       0.443809       0.488050   \n",
       "NU_NOTA_LC                1.000000       0.430603       0.453262   \n",
       "NU_NOTA_COMP1             0.430603       1.000000       0.756664   \n",
       "NU_NOTA_COMP2             0.453262       0.756664       1.000000   \n",
       "NU_NOTA_COMP3             0.475390       0.759452       0.875447   \n",
       "NU_NOTA_COMP4             0.467356       0.824538       0.808006   \n",
       "NU_NOTA_COMP5             0.441696       0.558587       0.655915   \n",
       "NU_NOTA_REDACAO           0.512908       0.862744       0.918278   \n",
       "NU_NOTA_MT                0.494695       0.299402       0.335638   \n",
       "\n",
       "                        NU_NOTA_COMP3  NU_NOTA_COMP4  NU_NOTA_COMP5  \\\n",
       "TP_DEPENDENCIA_ADM_ESC       0.282997       0.264291       0.252388   \n",
       "NU_NOTA_CN                   0.429447       0.407747       0.416349   \n",
       "NU_NOTA_CH                   0.510452       0.488797       0.494798   \n",
       "NU_NOTA_LC                   0.475390       0.467356       0.441696   \n",
       "NU_NOTA_COMP1                0.759452       0.824538       0.558587   \n",
       "NU_NOTA_COMP2                0.875447       0.808006       0.655915   \n",
       "NU_NOTA_COMP3                1.000000       0.827151       0.664350   \n",
       "NU_NOTA_COMP4                0.827151       1.000000       0.635018   \n",
       "NU_NOTA_COMP5                0.664350       0.635018       1.000000   \n",
       "NU_NOTA_REDACAO              0.925813       0.914505       0.816248   \n",
       "NU_NOTA_MT                   0.350307       0.342282       0.343337   \n",
       "\n",
       "                        NU_NOTA_REDACAO  NU_NOTA_MT  \n",
       "TP_DEPENDENCIA_ADM_ESC         0.297040    0.373233  \n",
       "NU_NOTA_CN                     0.459938    0.584941  \n",
       "NU_NOTA_CH                     0.550582    0.529594  \n",
       "NU_NOTA_LC                     0.512908    0.494695  \n",
       "NU_NOTA_COMP1                  0.862744    0.299402  \n",
       "NU_NOTA_COMP2                  0.918278    0.335638  \n",
       "NU_NOTA_COMP3                  0.925813    0.350307  \n",
       "NU_NOTA_COMP4                  0.914505    0.342282  \n",
       "NU_NOTA_COMP5                  0.816248    0.343337  \n",
       "NU_NOTA_REDACAO                1.000000    0.379376  \n",
       "NU_NOTA_MT                     0.379376    1.000000  "
      ]
     },
     "execution_count": 18,
     "metadata": {},
     "output_type": "execute_result"
    }
   ],
   "source": [
    "corr = df_train[colunas_aux].corr()\n",
    "corr"
   ]
  },
  {
   "cell_type": "code",
   "execution_count": 19,
   "metadata": {},
   "outputs": [
    {
     "data": {
      "image/png": "[encoded data removed]",
      "text/plain": [
       "<Figure size 720x504 with 2 Axes>"
      ]
     },
     "metadata": {
      "needs_background": "light"
     },
     "output_type": "display_data"
    }
   ],
   "source": [
    "plt.figure(figsize = (10,7))\n",
    "plt.xticks(fontsize=14)\n",
    "plt.yticks(fontsize=14)\n",
    "\n",
    "\n",
    "sns.heatmap(corr, xticklabels = corr.columns, yticklabels = corr.columns,vmin=-1, vmax=1, linewidths=.5, cmap = \"RdBu_r\",annot=True)\n",
    "plt.show()"
   ]
  },
  {
   "cell_type": "code",
   "execution_count": 20,
   "metadata": {},
   "outputs": [],
   "source": [
    "variaveis = ['NU_NOTA_CN', 'NU_NOTA_CH', 'NU_NOTA_LC', 'NU_NOTA_MT']"
   ]
  },
  {
   "cell_type": "markdown",
   "metadata": {},
   "source": [
    "## Removendo os valores nulos dos dados de treino"
   ]
  },
  {
   "cell_type": "code",
   "execution_count": 21,
   "metadata": {},
   "outputs": [],
   "source": [
    "df_train = df_train[(df_train['NU_NOTA_MT'].notnull()) & (df_train['NU_NOTA_MT'] != 0)]"
   ]
  },
  {
   "cell_type": "code",
   "execution_count": 22,
   "metadata": {},
   "outputs": [],
   "source": [
    "df_train.fillna(0,inplace = True)"
   ]
  },
  {
   "cell_type": "markdown",
   "metadata": {},
   "source": [
    "## Removendo os valores nulos dos dados de teste"
   ]
  },
  {
   "cell_type": "markdown",
   "metadata": {},
   "source": [
    "- Como a NU_NOTA_LC ocorre no mesmo dia da prova de matemática e como vista acima, as notas com valores nulos são para os alunos, faltantes ou eliminados, optei por remover as linhas nulas nessa coluna."
   ]
  },
  {
   "cell_type": "code",
   "execution_count": 23,
   "metadata": {},
   "outputs": [],
   "source": [
    "df_test = df_test[df_test['NU_NOTA_LC'].notnull()]"
   ]
  },
  {
   "cell_type": "code",
   "execution_count": 24,
   "metadata": {},
   "outputs": [],
   "source": [
    "df_test.fillna(0, inplace = True)"
   ]
  },
  {
   "cell_type": "markdown",
   "metadata": {},
   "source": [
    "## Criando o modelo de Regressão Linear"
   ]
  },
  {
   "cell_type": "code",
   "execution_count": 25,
   "metadata": {},
   "outputs": [],
   "source": [
    "df_train = df_train[variaveis]"
   ]
  },
  {
   "cell_type": "code",
   "execution_count": 26,
   "metadata": {},
   "outputs": [
    {
     "data": {
      "text/html": [
       "<div>\n",
       "<style scoped>\n",
       "    .dataframe tbody tr th:only-of-type {\n",
       "        vertical-align: middle;\n",
       "    }\n",
       "\n",
       "    .dataframe tbody tr th {\n",
       "        vertical-align: top;\n",
       "    }\n",
       "\n",
       "    .dataframe thead th {\n",
       "        text-align: right;\n",
       "    }\n",
       "</style>\n",
       "<table border=\"1\" class=\"dataframe\">\n",
       "  <thead>\n",
       "    <tr style=\"text-align: right;\">\n",
       "      <th></th>\n",
       "      <th>NU_NOTA_CN</th>\n",
       "      <th>NU_NOTA_CH</th>\n",
       "      <th>NU_NOTA_LC</th>\n",
       "      <th>NU_NOTA_MT</th>\n",
       "    </tr>\n",
       "  </thead>\n",
       "  <tbody>\n",
       "    <tr>\n",
       "      <th>0</th>\n",
       "      <td>436.3</td>\n",
       "      <td>495.4</td>\n",
       "      <td>581.2</td>\n",
       "      <td>399.4</td>\n",
       "    </tr>\n",
       "    <tr>\n",
       "      <th>1</th>\n",
       "      <td>474.5</td>\n",
       "      <td>544.1</td>\n",
       "      <td>599.0</td>\n",
       "      <td>459.8</td>\n",
       "    </tr>\n",
       "  </tbody>\n",
       "</table>\n",
       "</div>"
      ],
      "text/plain": [
       "   NU_NOTA_CN  NU_NOTA_CH  NU_NOTA_LC  NU_NOTA_MT\n",
       "0       436.3       495.4       581.2       399.4\n",
       "1       474.5       544.1       599.0       459.8"
      ]
     },
     "execution_count": 26,
     "metadata": {},
     "output_type": "execute_result"
    }
   ],
   "source": [
    "df_train.head(2)"
   ]
  },
  {
   "cell_type": "code",
   "execution_count": 27,
   "metadata": {},
   "outputs": [],
   "source": [
    "y_train = df_train['NU_NOTA_MT']\n",
    "X_train = df_train.drop(columns = 'NU_NOTA_MT')"
   ]
  },
  {
   "cell_type": "code",
   "execution_count": 28,
   "metadata": {},
   "outputs": [],
   "source": [
    "X_test = df_test[X_train.columns]"
   ]
  },
  {
   "cell_type": "code",
   "execution_count": 29,
   "metadata": {},
   "outputs": [],
   "source": [
    "X_train = ss.fit_transform(X_train) \n",
    "X_test = ss.transform(X_test)"
   ]
  },
  {
   "cell_type": "code",
   "execution_count": 30,
   "metadata": {},
   "outputs": [],
   "source": [
    "modelo = LinearRegression()"
   ]
  },
  {
   "cell_type": "code",
   "execution_count": 31,
   "metadata": {},
   "outputs": [
    {
     "data": {
      "text/plain": [
       "LinearRegression(copy_X=True, fit_intercept=True, n_jobs=None, normalize=False)"
      ]
     },
     "execution_count": 31,
     "metadata": {},
     "output_type": "execute_result"
    }
   ],
   "source": [
    "modelo.fit(X_train, y_train)"
   ]
  },
  {
   "cell_type": "code",
   "execution_count": 32,
   "metadata": {},
   "outputs": [],
   "source": [
    "y_previsto = modelo.predict(X_test)"
   ]
  },
  {
   "cell_type": "code",
   "execution_count": 33,
   "metadata": {},
   "outputs": [],
   "source": [
    "resposta = pd.DataFrame()"
   ]
  },
  {
   "cell_type": "code",
   "execution_count": 34,
   "metadata": {},
   "outputs": [],
   "source": [
    "resposta['NU_INSCRICAO'] = df_test['NU_INSCRICAO']"
   ]
  },
  {
   "cell_type": "code",
   "execution_count": 35,
   "metadata": {},
   "outputs": [],
   "source": [
    "resposta['NU_NOTA_MT'] = np.around(y_previsto,2)"
   ]
  },
  {
   "cell_type": "code",
   "execution_count": 36,
   "metadata": {},
   "outputs": [
    {
     "data": {
      "text/html": [
       "<div>\n",
       "<style scoped>\n",
       "    .dataframe tbody tr th:only-of-type {\n",
       "        vertical-align: middle;\n",
       "    }\n",
       "\n",
       "    .dataframe tbody tr th {\n",
       "        vertical-align: top;\n",
       "    }\n",
       "\n",
       "    .dataframe thead th {\n",
       "        text-align: right;\n",
       "    }\n",
       "</style>\n",
       "<table border=\"1\" class=\"dataframe\">\n",
       "  <thead>\n",
       "    <tr style=\"text-align: right;\">\n",
       "      <th></th>\n",
       "      <th>NU_INSCRICAO</th>\n",
       "      <th>NU_NOTA_MT</th>\n",
       "    </tr>\n",
       "  </thead>\n",
       "  <tbody>\n",
       "    <tr>\n",
       "      <th>0</th>\n",
       "      <td>73ff9fcc02f0a99919906c942c2e1a1042cdcf98</td>\n",
       "      <td>440.33</td>\n",
       "    </tr>\n",
       "    <tr>\n",
       "      <th>1</th>\n",
       "      <td>71a95f9f1b91a82c65ad94abbdf9f54e6066f968</td>\n",
       "      <td>450.04</td>\n",
       "    </tr>\n",
       "    <tr>\n",
       "      <th>2</th>\n",
       "      <td>b38a03232f43b11c9d0788abaf060f7366053b6d</td>\n",
       "      <td>585.55</td>\n",
       "    </tr>\n",
       "    <tr>\n",
       "      <th>4</th>\n",
       "      <td>715494628a50142ce8cb17191cfe6d0f3cae0934</td>\n",
       "      <td>553.62</td>\n",
       "    </tr>\n",
       "    <tr>\n",
       "      <th>5</th>\n",
       "      <td>e656d6bad65c93fb2880f1eba5037008c8e75774</td>\n",
       "      <td>469.12</td>\n",
       "    </tr>\n",
       "  </tbody>\n",
       "</table>\n",
       "</div>"
      ],
      "text/plain": [
       "                               NU_INSCRICAO  NU_NOTA_MT\n",
       "0  73ff9fcc02f0a99919906c942c2e1a1042cdcf98      440.33\n",
       "1  71a95f9f1b91a82c65ad94abbdf9f54e6066f968      450.04\n",
       "2  b38a03232f43b11c9d0788abaf060f7366053b6d      585.55\n",
       "4  715494628a50142ce8cb17191cfe6d0f3cae0934      553.62\n",
       "5  e656d6bad65c93fb2880f1eba5037008c8e75774      469.12"
      ]
     },
     "execution_count": 36,
     "metadata": {},
     "output_type": "execute_result"
    }
   ],
   "source": [
    "resposta.head()"
   ]
  },
  {
   "cell_type": "code",
   "execution_count": 37,
   "metadata": {},
   "outputs": [],
   "source": [
    "resposta.to_csv('answer.csv', index=False, header=True)"
   ]
  },
  {
   "cell_type": "code",
   "execution_count": null,
   "metadata": {},
   "outputs": [],
   "source": []
  }
 ],
 "metadata": {
  "kernelspec": {
   "display_name": "Python 3",
   "language": "python",
   "name": "python3"
  },
  "language_info": {
   "codemirror_mode": {
    "name": "ipython",
    "version": 3
   },
   "file_extension": ".py",
   "mimetype": "text/x-python",
   "name": "python",
   "nbconvert_exporter": "python",
   "pygments_lexer": "ipython3",
   "version": "3.7.6"
  }
 },
 "nbformat": 4,
 "nbformat_minor": 4
}
